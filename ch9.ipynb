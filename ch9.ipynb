{
 "cells": [
  {
   "cell_type": "code",
   "execution_count": 1,
   "metadata": {
    "collapsed": true
   },
   "outputs": [],
   "source": [
    "## R code 9.1\n",
    "p <- list()\n",
    "p$A <- c(0,0,10,0,0)\n",
    "p$B <- c(0,1,8,1,0)\n",
    "p$C <- c(0,2,6,2,0)\n",
    "p$D <- c(1,2,4,2,1)\n",
    "p$E <- c(2,2,2,2,2)"
   ]
  },
  {
   "cell_type": "code",
   "execution_count": 2,
   "metadata": {
    "collapsed": true
   },
   "outputs": [],
   "source": [
    "## R code 9.2\n",
    "p_norm <- lapply( p , function(q) q/sum(q))"
   ]
  },
  {
   "cell_type": "code",
   "execution_count": 3,
   "metadata": {
    "collapsed": false
   },
   "outputs": [
    {
     "data": {
      "text/html": [
       "<dl class=dl-horizontal>\n",
       "\t<dt>A</dt>\n",
       "\t\t<dd>0</dd>\n",
       "\t<dt>B</dt>\n",
       "\t\t<dd>0.639031859650177</dd>\n",
       "\t<dt>C</dt>\n",
       "\t\t<dd>0.950270539233235</dd>\n",
       "\t<dt>D</dt>\n",
       "\t\t<dd>1.47080847632211</dd>\n",
       "\t<dt>E</dt>\n",
       "\t\t<dd>1.6094379124341</dd>\n",
       "</dl>\n"
      ],
      "text/latex": [
       "\\begin{description*}\n",
       "\\item[A] 0\n",
       "\\item[B] 0.639031859650177\n",
       "\\item[C] 0.950270539233235\n",
       "\\item[D] 1.47080847632211\n",
       "\\item[E] 1.6094379124341\n",
       "\\end{description*}\n"
      ],
      "text/markdown": [
       "A\n",
       ":   0B\n",
       ":   0.639031859650177C\n",
       ":   0.950270539233235D\n",
       ":   1.47080847632211E\n",
       ":   1.6094379124341\n",
       "\n"
      ],
      "text/plain": [
       "        A         B         C         D         E \n",
       "0.0000000 0.6390319 0.9502705 1.4708085 1.6094379 "
      ]
     },
     "execution_count": 3,
     "metadata": {},
     "output_type": "execute_result"
    }
   ],
   "source": [
    "## R code 9.3\n",
    "( H <- sapply( p_norm , function(q) -sum(ifelse(q==0,0,q*log(q))) ) )"
   ]
  },
  {
   "cell_type": "code",
   "execution_count": 4,
   "metadata": {
    "collapsed": true
   },
   "outputs": [],
   "source": [
    "## R code 9.4\n",
    "ways <- c(1,90,1260,37800,113400)\n",
    "logwayspp <- log(ways)/10"
   ]
  },
  {
   "cell_type": "code",
   "execution_count": 5,
   "metadata": {
    "collapsed": true
   },
   "outputs": [],
   "source": [
    "## R code 9.5\n",
    "# build list of the candidate distributions\n",
    "p <- list()\n",
    "p[[1]] <- c(1/4,1/4,1/4,1/4)\n",
    "p[[2]] <- c(2/6,1/6,1/6,2/6)\n",
    "p[[3]] <- c(1/6,2/6,2/6,1/6)\n",
    "p[[4]] <- c(1/8,4/8,2/8,1/8)"
   ]
  },
  {
   "cell_type": "code",
   "execution_count": 6,
   "metadata": {
    "collapsed": false
   },
   "outputs": [
    {
     "data": {
      "text/html": [
       "<ol class=list-inline>\n",
       "\t<li>1</li>\n",
       "\t<li>1</li>\n",
       "\t<li>1</li>\n",
       "\t<li>1</li>\n",
       "</ol>\n"
      ],
      "text/latex": [
       "\\begin{enumerate*}\n",
       "\\item 1\n",
       "\\item 1\n",
       "\\item 1\n",
       "\\item 1\n",
       "\\end{enumerate*}\n"
      ],
      "text/markdown": [
       "1. 1\n",
       "2. 1\n",
       "3. 1\n",
       "4. 1\n",
       "\n",
       "\n"
      ],
      "text/plain": [
       "[1] 1 1 1 1"
      ]
     },
     "execution_count": 6,
     "metadata": {},
     "output_type": "execute_result"
    }
   ],
   "source": [
    "# compute expected value of each\n",
    "sapply( p , function(p) sum(p*c(0,1,1,2)) )"
   ]
  },
  {
   "cell_type": "code",
   "execution_count": 7,
   "metadata": {
    "collapsed": false
   },
   "outputs": [
    {
     "data": {
      "text/html": [
       "<ol class=list-inline>\n",
       "\t<li>1.38629436111989</li>\n",
       "\t<li>1.32966134885476</li>\n",
       "\t<li>1.32966134885476</li>\n",
       "\t<li>1.2130075659799</li>\n",
       "</ol>\n"
      ],
      "text/latex": [
       "\\begin{enumerate*}\n",
       "\\item 1.38629436111989\n",
       "\\item 1.32966134885476\n",
       "\\item 1.32966134885476\n",
       "\\item 1.2130075659799\n",
       "\\end{enumerate*}\n"
      ],
      "text/markdown": [
       "1. 1.38629436111989\n",
       "2. 1.32966134885476\n",
       "3. 1.32966134885476\n",
       "4. 1.2130075659799\n",
       "\n",
       "\n"
      ],
      "text/plain": [
       "[1] 1.386294 1.329661 1.329661 1.213008"
      ]
     },
     "execution_count": 7,
     "metadata": {},
     "output_type": "execute_result"
    }
   ],
   "source": [
    "## R code 9.6\n",
    "# compute entropy of each distribution\n",
    "sapply( p , function(p) -sum( p*log(p) ) )"
   ]
  },
  {
   "cell_type": "code",
   "execution_count": 8,
   "metadata": {
    "collapsed": false
   },
   "outputs": [
    {
     "data": {
      "text/html": [
       "<ol class=list-inline>\n",
       "\t<li>0.09</li>\n",
       "\t<li>0.21</li>\n",
       "\t<li>0.21</li>\n",
       "\t<li>0.49</li>\n",
       "</ol>\n"
      ],
      "text/latex": [
       "\\begin{enumerate*}\n",
       "\\item 0.09\n",
       "\\item 0.21\n",
       "\\item 0.21\n",
       "\\item 0.49\n",
       "\\end{enumerate*}\n"
      ],
      "text/markdown": [
       "1. 0.09\n",
       "2. 0.21\n",
       "3. 0.21\n",
       "4. 0.49\n",
       "\n",
       "\n"
      ],
      "text/plain": [
       "[1] 0.09 0.21 0.21 0.49"
      ]
     },
     "execution_count": 8,
     "metadata": {},
     "output_type": "execute_result"
    }
   ],
   "source": [
    "## R code 9.7\n",
    "p <- 0.7\n",
    "( A <- c( (1-p)^2 , p*(1-p) , (1-p)*p , p^2 ) )"
   ]
  },
  {
   "cell_type": "code",
   "execution_count": 9,
   "metadata": {
    "collapsed": false
   },
   "outputs": [
    {
     "data": {
      "text/html": [
       "1.22172860410979"
      ],
      "text/latex": [
       "1.22172860410979"
      ],
      "text/markdown": [
       "1.22172860410979"
      ],
      "text/plain": [
       "[1] 1.221729"
      ]
     },
     "execution_count": 9,
     "metadata": {},
     "output_type": "execute_result"
    }
   ],
   "source": [
    "## R code 9.8\n",
    "-sum( A*log(A) )\n",
    "\n",
    "## R code 9.9\n",
    "sim.p <- function(G=1.4) {\n",
    "    x123 <- runif(3)\n",
    "    x4 <- ( (G)*sum(x123)-x123[2]-x123[3] )/(2-G)\n",
    "    z <- sum( c(x123,x4) )\n",
    "    p <- c( x123 , x4 )/z\n",
    "    list( H=-sum( p*log(p) ) , p=p )\n",
    "}"
   ]
  },
  {
   "cell_type": "code",
   "execution_count": 11,
   "metadata": {
    "collapsed": false
   },
   "outputs": [
    {
     "name": "stderr",
     "output_type": "stream",
     "text": [
      "Loading required package: rstan\n",
      "Loading required package: ggplot2\n",
      "rstan (Version 2.9.0, packaged: 2016-01-05 16:17:47 UTC, GitRev: 05c3d0058b6a)\n",
      "For execution on a local, multicore CPU with excess RAM we recommend calling\n",
      "rstan_options(auto_write = TRUE)\n",
      "options(mc.cores = parallel::detectCores())\n",
      "Loading required package: parallel\n",
      "rethinking (Version 1.58)\n"
     ]
    },
    {
     "data": {
      "image/png": "[encoded data removed]",
      "image/svg+xml": [
       "<?xml version=\"1.0\" encoding=\"UTF-8\"?>\n",
       "<svg xmlns=\"http://www.w3.org/2000/svg\" xmlns:xlink=\"http://www.w3.org/1999/xlink\" width=\"504pt\" height=\"504pt\" viewBox=\"0 0 504 504\" version=\"1.1\">\n",
       "<defs>\n",
       "<g>\n",
       "<symbol overflow=\"visible\" id=\"glyph0-0\">\n",
       "<path style=\"stroke:none;\" d=\"\"/>\n",
       "</symbol>\n",
       "<symbol overflow=\"visible\" id=\"glyph0-1\">\n",
       "<path style=\"stroke:none;\" d=\"M 3.296875 -8.515625 C 2.515625 -8.515625 1.78125 -8.15625 1.34375 -7.578125 C 0.796875 -6.828125 0.515625 -5.6875 0.515625 -4.109375 C 0.515625 -1.25 1.46875 0.28125 3.296875 0.28125 C 5.09375 0.28125 6.078125 -1.25 6.078125 -4.046875 C 6.078125 -5.703125 5.8125 -6.796875 5.25 -7.578125 C 4.8125 -8.171875 4.109375 -8.515625 3.296875 -8.515625 Z M 3.296875 -7.578125 C 4.4375 -7.578125 5 -6.421875 5 -4.140625 C 5 -1.734375 4.453125 -0.59375 3.28125 -0.59375 C 2.15625 -0.59375 1.59375 -1.78125 1.59375 -4.109375 C 1.59375 -6.4375 2.15625 -7.578125 3.296875 -7.578125 Z \"/>\n",
       "</symbol>\n",
       "<symbol overflow=\"visible\" id=\"glyph0-2\">\n",
       "<path style=\"stroke:none;\" d=\"M 2.296875 -1.25 L 1.046875 -1.25 L 1.046875 0 L 2.296875 0 Z \"/>\n",
       "</symbol>\n",
       "<symbol overflow=\"visible\" id=\"glyph0-3\">\n",
       "<path style=\"stroke:none;\" d=\"M 5.96875 -6.28125 C 5.765625 -7.6875 4.859375 -8.515625 3.5625 -8.515625 C 2.625 -8.515625 1.78125 -8.046875 1.28125 -7.296875 C 0.75 -6.46875 0.515625 -5.421875 0.515625 -3.875 C 0.515625 -2.453125 0.734375 -1.53125 1.234375 -0.78125 C 1.6875 -0.09375 2.4375 0.28125 3.375 0.28125 C 4.984375 0.28125 6.15625 -0.921875 6.15625 -2.59375 C 6.15625 -4.171875 5.078125 -5.296875 3.546875 -5.296875 C 2.71875 -5.296875 2.046875 -4.96875 1.59375 -4.34375 C 1.609375 -6.421875 2.28125 -7.578125 3.484375 -7.578125 C 4.234375 -7.578125 4.75 -7.109375 4.921875 -6.28125 Z M 3.421875 -4.359375 C 4.4375 -4.359375 5.078125 -3.640625 5.078125 -2.515625 C 5.078125 -1.4375 4.359375 -0.65625 3.390625 -0.65625 C 2.40625 -0.65625 1.65625 -1.46875 1.65625 -2.5625 C 1.65625 -3.625 2.375 -4.359375 3.421875 -4.359375 Z \"/>\n",
       "</symbol>\n",
       "<symbol overflow=\"visible\" id=\"glyph0-4\">\n",
       "<path style=\"stroke:none;\" d=\"M 6.234375 -8.515625 L 0.546875 -8.515625 L 0.546875 -7.46875 L 5.140625 -7.46875 C 3.125 -4.578125 2.296875 -2.796875 1.65625 0 L 2.78125 0 C 3.25 -2.71875 4.3125 -5.0625 6.234375 -7.625 Z \"/>\n",
       "</symbol>\n",
       "<symbol overflow=\"visible\" id=\"glyph0-5\">\n",
       "<path style=\"stroke:none;\" d=\"M 4.6875 -4.46875 C 5.5625 -5 5.859375 -5.4375 5.859375 -6.234375 C 5.859375 -7.578125 4.8125 -8.515625 3.296875 -8.515625 C 1.796875 -8.515625 0.75 -7.578125 0.75 -6.234375 C 0.75 -5.453125 1.03125 -5.015625 1.890625 -4.46875 C 0.921875 -4.015625 0.4375 -3.296875 0.4375 -2.359375 C 0.4375 -0.796875 1.625 0.28125 3.296875 0.28125 C 4.984375 0.28125 6.15625 -0.796875 6.15625 -2.359375 C 6.15625 -3.296875 5.671875 -4.015625 4.6875 -4.46875 Z M 3.296875 -7.578125 C 4.203125 -7.578125 4.78125 -7.046875 4.78125 -6.21875 C 4.78125 -5.421875 4.1875 -4.890625 3.296875 -4.890625 C 2.40625 -4.890625 1.828125 -5.421875 1.828125 -6.234375 C 1.828125 -7.046875 2.40625 -7.578125 3.296875 -7.578125 Z M 3.296875 -4.015625 C 4.359375 -4.015625 5.078125 -3.34375 5.078125 -2.34375 C 5.078125 -1.328125 4.359375 -0.65625 3.28125 -0.65625 C 2.25 -0.65625 1.53125 -1.34375 1.53125 -2.34375 C 1.53125 -3.34375 2.25 -4.015625 3.296875 -4.015625 Z \"/>\n",
       "</symbol>\n",
       "<symbol overflow=\"visible\" id=\"glyph0-6\">\n",
       "<path style=\"stroke:none;\" d=\"M 0.640625 -1.9375 C 0.84375 -0.546875 1.75 0.28125 3.046875 0.28125 C 3.984375 0.28125 4.84375 -0.1875 5.328125 -0.9375 C 5.875 -1.765625 6.109375 -2.8125 6.109375 -4.359375 C 6.109375 -5.78125 5.890625 -6.703125 5.390625 -7.453125 C 4.921875 -8.140625 4.171875 -8.515625 3.234375 -8.515625 C 1.625 -8.515625 0.453125 -7.3125 0.453125 -5.640625 C 0.453125 -4.0625 1.53125 -2.9375 3.078125 -2.9375 C 3.875 -2.9375 4.46875 -3.234375 5.015625 -3.890625 C 5 -1.8125 4.328125 -0.65625 3.125 -0.65625 C 2.375 -0.65625 1.859375 -1.125 1.6875 -1.9375 Z M 3.234375 -7.578125 C 4.21875 -7.578125 4.953125 -6.765625 4.953125 -5.65625 C 4.953125 -4.625 4.21875 -3.875 3.1875 -3.875 C 2.171875 -3.875 1.53125 -4.578125 1.53125 -5.71875 C 1.53125 -6.796875 2.25 -7.578125 3.234375 -7.578125 Z \"/>\n",
       "</symbol>\n",
       "<symbol overflow=\"visible\" id=\"glyph0-7\">\n",
       "<path style=\"stroke:none;\" d=\"M 3.109375 -6.0625 L 3.109375 0 L 4.15625 0 L 4.15625 -8.515625 L 3.46875 -8.515625 C 3.09375 -7.203125 2.859375 -7.015625 1.21875 -6.8125 L 1.21875 -6.0625 Z \"/>\n",
       "</symbol>\n",
       "<symbol overflow=\"visible\" id=\"glyph0-8\">\n",
       "<path style=\"stroke:none;\" d=\"M 6.078125 -1.046875 L 1.59375 -1.046875 C 1.703125 -1.734375 2.09375 -2.1875 3.125 -2.796875 L 4.328125 -3.4375 C 5.515625 -4.09375 6.125 -4.96875 6.125 -6.015625 C 6.125 -6.71875 5.84375 -7.375 5.34375 -7.84375 C 4.84375 -8.296875 4.21875 -8.515625 3.40625 -8.515625 C 2.328125 -8.515625 1.53125 -8.125 1.0625 -7.40625 C 0.75 -6.953125 0.625 -6.421875 0.59375 -5.5625 L 1.65625 -5.5625 C 1.6875 -6.125 1.765625 -6.484375 1.90625 -6.75 C 2.1875 -7.265625 2.734375 -7.578125 3.375 -7.578125 C 4.328125 -7.578125 5.046875 -6.90625 5.046875 -5.984375 C 5.046875 -5.3125 4.65625 -4.734375 3.90625 -4.3125 L 2.796875 -3.6875 C 1.015625 -2.671875 0.5 -1.875 0.40625 0 L 6.078125 0 Z \"/>\n",
       "</symbol>\n",
       "<symbol overflow=\"visible\" id=\"glyph0-9\">\n",
       "<path style=\"stroke:none;\" d=\"M 7.75 -8.75 L 6.703125 -8.75 L 6.703125 -1.59375 L 2.125 -8.75 L 0.90625 -8.75 L 0.90625 0 L 1.96875 0 L 1.96875 -7.09375 L 6.484375 0 L 7.75 0 Z \"/>\n",
       "</symbol>\n",
       "<symbol overflow=\"visible\" id=\"glyph0-10\">\n",
       "<path style=\"stroke:none;\" d=\"\"/>\n",
       "</symbol>\n",
       "<symbol overflow=\"visible\" id=\"glyph0-11\">\n",
       "<path style=\"stroke:none;\" d=\"M 6.40625 -4.234375 L 0.59375 -4.234375 L 0.59375 -3.390625 L 6.40625 -3.390625 Z M 6.40625 -2.171875 L 0.59375 -2.171875 L 0.59375 -1.328125 L 6.40625 -1.328125 Z \"/>\n",
       "</symbol>\n",
       "<symbol overflow=\"visible\" id=\"glyph0-12\">\n",
       "<path style=\"stroke:none;\" d=\"M 0.953125 0 L 4.890625 0 C 5.71875 0 6.34375 -0.234375 6.796875 -0.734375 C 7.234375 -1.1875 7.46875 -1.8125 7.46875 -2.5 C 7.46875 -3.546875 7 -4.1875 5.875 -4.625 C 6.671875 -4.984375 7.09375 -5.640625 7.09375 -6.53125 C 7.09375 -7.15625 6.859375 -7.734375 6.390625 -8.140625 C 5.9375 -8.5625 5.34375 -8.75 4.5 -8.75 L 0.953125 -8.75 Z M 2.0625 -4.984375 L 2.0625 -7.765625 L 4.21875 -7.765625 C 4.84375 -7.765625 5.203125 -7.6875 5.5 -7.453125 C 5.8125 -7.21875 5.96875 -6.859375 5.96875 -6.375 C 5.96875 -5.90625 5.8125 -5.53125 5.5 -5.296875 C 5.203125 -5.0625 4.84375 -4.984375 4.21875 -4.984375 Z M 2.0625 -0.984375 L 2.0625 -4 L 4.78125 -4 C 5.328125 -4 5.6875 -3.859375 5.953125 -3.578125 C 6.21875 -3.296875 6.359375 -2.921875 6.359375 -2.484375 C 6.359375 -2.0625 6.21875 -1.6875 5.953125 -1.40625 C 5.6875 -1.109375 5.328125 -0.984375 4.78125 -0.984375 Z \"/>\n",
       "</symbol>\n",
       "<symbol overflow=\"visible\" id=\"glyph0-13\">\n",
       "<path style=\"stroke:none;\" d=\"M 6.421875 -0.59375 C 6.3125 -0.5625 6.265625 -0.5625 6.203125 -0.5625 C 5.859375 -0.5625 5.65625 -0.75 5.65625 -1.0625 L 5.65625 -4.75 C 5.65625 -5.875 4.84375 -6.46875 3.296875 -6.46875 C 2.390625 -6.46875 1.625 -6.203125 1.21875 -5.734375 C 0.921875 -5.40625 0.796875 -5.046875 0.78125 -4.421875 L 1.78125 -4.421875 C 1.875 -5.203125 2.328125 -5.546875 3.265625 -5.546875 C 4.15625 -5.546875 4.671875 -5.203125 4.671875 -4.609375 L 4.671875 -4.34375 C 4.671875 -3.921875 4.421875 -3.75 3.625 -3.640625 C 2.203125 -3.46875 1.984375 -3.421875 1.609375 -3.265625 C 0.875 -2.96875 0.5 -2.40625 0.5 -1.578125 C 0.5 -0.4375 1.296875 0.28125 2.5625 0.28125 C 3.359375 0.28125 4 0 4.703125 -0.640625 C 4.78125 -0.015625 5.09375 0.28125 5.734375 0.28125 C 5.9375 0.28125 6.09375 0.25 6.421875 0.171875 Z M 4.671875 -1.984375 C 4.671875 -1.640625 4.578125 -1.4375 4.265625 -1.15625 C 3.859375 -0.796875 3.375 -0.59375 2.78125 -0.59375 C 2 -0.59375 1.546875 -0.96875 1.546875 -1.609375 C 1.546875 -2.265625 1.984375 -2.609375 3.0625 -2.765625 C 4.109375 -2.90625 4.328125 -2.953125 4.671875 -3.109375 Z \"/>\n",
       "</symbol>\n",
       "<symbol overflow=\"visible\" id=\"glyph0-14\">\n",
       "<path style=\"stroke:none;\" d=\"M 0.84375 -6.28125 L 0.84375 0 L 1.84375 0 L 1.84375 -3.46875 C 1.84375 -4.75 2.515625 -5.59375 3.546875 -5.59375 C 4.34375 -5.59375 4.84375 -5.109375 4.84375 -4.359375 L 4.84375 0 L 5.84375 0 L 5.84375 -4.75 C 5.84375 -5.796875 5.0625 -6.46875 3.859375 -6.46875 C 2.921875 -6.46875 2.3125 -6.109375 1.765625 -5.234375 L 1.765625 -6.28125 Z \"/>\n",
       "</symbol>\n",
       "<symbol overflow=\"visible\" id=\"glyph0-15\">\n",
       "<path style=\"stroke:none;\" d=\"M 5.9375 -8.75 L 4.9375 -8.75 L 4.9375 -5.5 C 4.53125 -6.125 3.859375 -6.46875 3.015625 -6.46875 C 1.375 -6.46875 0.3125 -5.15625 0.3125 -3.15625 C 0.3125 -1.03125 1.359375 0.28125 3.046875 0.28125 C 3.90625 0.28125 4.515625 -0.046875 5.046875 -0.828125 L 5.046875 0 L 5.9375 0 Z M 3.1875 -5.53125 C 4.265625 -5.53125 4.9375 -4.578125 4.9375 -3.078125 C 4.9375 -1.625 4.25 -0.65625 3.1875 -0.65625 C 2.09375 -0.65625 1.359375 -1.625 1.359375 -3.09375 C 1.359375 -4.5625 2.09375 -5.53125 3.1875 -5.53125 Z \"/>\n",
       "</symbol>\n",
       "<symbol overflow=\"visible\" id=\"glyph0-16\">\n",
       "<path style=\"stroke:none;\" d=\"M 6.640625 0 L 8.5 -6.28125 L 7.375 -6.28125 L 6.125 -1.390625 L 4.890625 -6.28125 L 3.65625 -6.28125 L 2.453125 -1.390625 L 1.171875 -6.28125 L 0.078125 -6.28125 L 1.890625 0 L 3.03125 0 L 4.234375 -4.9375 L 5.515625 0 Z \"/>\n",
       "</symbol>\n",
       "<symbol overflow=\"visible\" id=\"glyph0-17\">\n",
       "<path style=\"stroke:none;\" d=\"M 1.796875 -6.28125 L 0.796875 -6.28125 L 0.796875 0 L 1.796875 0 Z M 1.796875 -8.75 L 0.796875 -8.75 L 0.796875 -7.484375 L 1.796875 -7.484375 Z \"/>\n",
       "</symbol>\n",
       "<symbol overflow=\"visible\" id=\"glyph0-18\">\n",
       "<path style=\"stroke:none;\" d=\"M 3.046875 -6.28125 L 2.015625 -6.28125 L 2.015625 -8.015625 L 1.015625 -8.015625 L 1.015625 -6.28125 L 0.171875 -6.28125 L 0.171875 -5.46875 L 1.015625 -5.46875 L 1.015625 -0.71875 C 1.015625 -0.078125 1.453125 0.28125 2.234375 0.28125 C 2.46875 0.28125 2.71875 0.25 3.046875 0.1875 L 3.046875 -0.640625 C 2.921875 -0.609375 2.765625 -0.59375 2.5625 -0.59375 C 2.140625 -0.59375 2.015625 -0.71875 2.015625 -1.15625 L 2.015625 -5.46875 L 3.046875 -5.46875 Z \"/>\n",
       "</symbol>\n",
       "<symbol overflow=\"visible\" id=\"glyph0-19\">\n",
       "<path style=\"stroke:none;\" d=\"M 0.84375 -8.75 L 0.84375 0 L 1.84375 0 L 1.84375 -3.46875 C 1.84375 -4.75 2.515625 -5.59375 3.546875 -5.59375 C 3.859375 -5.59375 4.1875 -5.484375 4.421875 -5.296875 C 4.71875 -5.09375 4.84375 -4.796875 4.84375 -4.359375 L 4.84375 0 L 5.828125 0 L 5.828125 -4.75 C 5.828125 -5.8125 5.078125 -6.46875 3.859375 -6.46875 C 2.96875 -6.46875 2.421875 -6.1875 1.84375 -5.421875 L 1.84375 -8.75 Z \"/>\n",
       "</symbol>\n",
       "<symbol overflow=\"visible\" id=\"glyph0-20\">\n",
       "<path style=\"stroke:none;\" d=\"M 3.921875 -2.046875 L 3.921875 0 L 4.984375 0 L 4.984375 -2.046875 L 6.234375 -2.046875 L 6.234375 -2.984375 L 4.984375 -2.984375 L 4.984375 -8.515625 L 4.203125 -8.515625 L 0.34375 -3.15625 L 0.34375 -2.046875 Z M 3.921875 -2.984375 L 1.265625 -2.984375 L 3.921875 -6.703125 Z \"/>\n",
       "</symbol>\n",
       "<symbol overflow=\"visible\" id=\"glyph1-0\">\n",
       "<path style=\"stroke:none;\" d=\"\"/>\n",
       "</symbol>\n",
       "<symbol overflow=\"visible\" id=\"glyph1-1\">\n",
       "<path style=\"stroke:none;\" d=\"M -8.515625 -3.296875 C -8.515625 -2.515625 -8.15625 -1.78125 -7.578125 -1.34375 C -6.828125 -0.796875 -5.6875 -0.515625 -4.109375 -0.515625 C -1.25 -0.515625 0.28125 -1.46875 0.28125 -3.296875 C 0.28125 -5.09375 -1.25 -6.078125 -4.046875 -6.078125 C -5.703125 -6.078125 -6.796875 -5.8125 -7.578125 -5.25 C -8.171875 -4.8125 -8.515625 -4.109375 -8.515625 -3.296875 Z M -7.578125 -3.296875 C -7.578125 -4.4375 -6.421875 -5 -4.140625 -5 C -1.734375 -5 -0.59375 -4.453125 -0.59375 -3.28125 C -0.59375 -2.15625 -1.78125 -1.59375 -4.109375 -1.59375 C -6.4375 -1.59375 -7.578125 -2.15625 -7.578125 -3.296875 Z \"/>\n",
       "</symbol>\n",
       "<symbol overflow=\"visible\" id=\"glyph1-2\">\n",
       "<path style=\"stroke:none;\" d=\"M -1.046875 -6.078125 L -1.046875 -1.59375 C -1.734375 -1.703125 -2.1875 -2.09375 -2.796875 -3.125 L -3.4375 -4.328125 C -4.09375 -5.515625 -4.96875 -6.125 -6.015625 -6.125 C -6.71875 -6.125 -7.375 -5.84375 -7.84375 -5.34375 C -8.296875 -4.84375 -8.515625 -4.21875 -8.515625 -3.40625 C -8.515625 -2.328125 -8.125 -1.53125 -7.40625 -1.0625 C -6.953125 -0.75 -6.421875 -0.625 -5.5625 -0.59375 L -5.5625 -1.65625 C -6.125 -1.6875 -6.484375 -1.765625 -6.75 -1.90625 C -7.265625 -2.1875 -7.578125 -2.734375 -7.578125 -3.375 C -7.578125 -4.328125 -6.90625 -5.046875 -5.984375 -5.046875 C -5.3125 -5.046875 -4.734375 -4.65625 -4.3125 -3.90625 L -3.6875 -2.796875 C -2.671875 -1.015625 -1.875 -0.5 0 -0.40625 L 0 -6.078125 Z \"/>\n",
       "</symbol>\n",
       "<symbol overflow=\"visible\" id=\"glyph1-3\">\n",
       "<path style=\"stroke:none;\" d=\"M -2.046875 -3.921875 L 0 -3.921875 L 0 -4.984375 L -2.046875 -4.984375 L -2.046875 -6.234375 L -2.984375 -6.234375 L -2.984375 -4.984375 L -8.515625 -4.984375 L -8.515625 -4.203125 L -3.15625 -0.34375 L -2.046875 -0.34375 Z M -2.984375 -3.921875 L -2.984375 -1.265625 L -6.703125 -3.921875 Z \"/>\n",
       "</symbol>\n",
       "<symbol overflow=\"visible\" id=\"glyph1-4\">\n",
       "<path style=\"stroke:none;\" d=\"M -6.28125 -5.96875 C -7.6875 -5.765625 -8.515625 -4.859375 -8.515625 -3.5625 C -8.515625 -2.625 -8.046875 -1.78125 -7.296875 -1.28125 C -6.46875 -0.75 -5.421875 -0.515625 -3.875 -0.515625 C -2.453125 -0.515625 -1.53125 -0.734375 -0.78125 -1.234375 C -0.09375 -1.6875 0.28125 -2.4375 0.28125 -3.375 C 0.28125 -4.984375 -0.921875 -6.15625 -2.59375 -6.15625 C -4.171875 -6.15625 -5.296875 -5.078125 -5.296875 -3.546875 C -5.296875 -2.71875 -4.96875 -2.046875 -4.34375 -1.59375 C -6.421875 -1.609375 -7.578125 -2.28125 -7.578125 -3.484375 C -7.578125 -4.234375 -7.109375 -4.75 -6.28125 -4.921875 Z M -4.359375 -3.421875 C -4.359375 -4.4375 -3.640625 -5.078125 -2.515625 -5.078125 C -1.4375 -5.078125 -0.65625 -4.359375 -0.65625 -3.390625 C -0.65625 -2.40625 -1.46875 -1.65625 -2.5625 -1.65625 C -3.625 -1.65625 -4.359375 -2.375 -4.359375 -3.421875 Z \"/>\n",
       "</symbol>\n",
       "<symbol overflow=\"visible\" id=\"glyph1-5\">\n",
       "<path style=\"stroke:none;\" d=\"M 0 -1.0625 L 0 -4.4375 C 0 -6.640625 -1.65625 -8 -4.375 -8 C -7.09375 -8 -8.75 -6.65625 -8.75 -4.4375 L -8.75 -1.0625 Z M -0.984375 -2.1875 L -7.765625 -2.1875 L -7.765625 -4.25 C -7.765625 -5.96875 -6.59375 -6.890625 -4.375 -6.890625 C -2.15625 -6.890625 -0.984375 -5.96875 -0.984375 -4.25 Z \"/>\n",
       "</symbol>\n",
       "<symbol overflow=\"visible\" id=\"glyph1-6\">\n",
       "<path style=\"stroke:none;\" d=\"M -2.8125 -6.15625 C -3.765625 -6.15625 -4.34375 -6.078125 -4.8125 -5.90625 C -5.84375 -5.5 -6.46875 -4.53125 -6.46875 -3.359375 C -6.46875 -1.609375 -5.125 -0.484375 -3.0625 -0.484375 C -1 -0.484375 0.28125 -1.578125 0.28125 -3.34375 C 0.28125 -4.78125 -0.546875 -5.765625 -1.90625 -6.03125 L -1.90625 -5.015625 C -1.078125 -4.734375 -0.640625 -4.171875 -0.640625 -3.375 C -0.640625 -2.734375 -0.9375 -2.203125 -1.46875 -1.859375 C -1.828125 -1.625 -2.1875 -1.53125 -2.8125 -1.53125 Z M -3.625 -1.546875 C -4.78125 -1.625 -5.546875 -2.34375 -5.546875 -3.34375 C -5.546875 -4.328125 -4.734375 -5.09375 -3.703125 -5.09375 C -3.671875 -5.09375 -3.640625 -5.09375 -3.625 -5.078125 Z \"/>\n",
       "</symbol>\n",
       "<symbol overflow=\"visible\" id=\"glyph1-7\">\n",
       "<path style=\"stroke:none;\" d=\"M -6.28125 -0.84375 L 0 -0.84375 L 0 -1.84375 L -3.46875 -1.84375 C -4.75 -1.84375 -5.59375 -2.515625 -5.59375 -3.546875 C -5.59375 -4.34375 -5.109375 -4.84375 -4.359375 -4.84375 L 0 -4.84375 L 0 -5.84375 L -4.75 -5.84375 C -5.796875 -5.84375 -6.46875 -5.0625 -6.46875 -3.859375 C -6.46875 -2.921875 -6.109375 -2.3125 -5.234375 -1.765625 L -6.28125 -1.765625 Z \"/>\n",
       "</symbol>\n",
       "<symbol overflow=\"visible\" id=\"glyph1-8\">\n",
       "<path style=\"stroke:none;\" d=\"M -4.53125 -5.25 C -5.765625 -5.25 -6.46875 -4.421875 -6.46875 -2.96875 C -6.46875 -1.515625 -5.71875 -0.5625 -4.546875 -0.5625 C -3.5625 -0.5625 -3.09375 -1.0625 -2.734375 -2.5625 L -2.515625 -3.484375 C -2.34375 -4.1875 -2.09375 -4.46875 -1.625 -4.46875 C -1.046875 -4.46875 -0.640625 -3.875 -0.640625 -3 C -0.640625 -2.453125 -0.796875 -2 -1.0625 -1.75 C -1.25 -1.59375 -1.421875 -1.53125 -1.875 -1.46875 L -1.875 -0.40625 C -0.421875 -0.453125 0.28125 -1.265625 0.28125 -2.921875 C 0.28125 -4.5 -0.5 -5.515625 -1.71875 -5.515625 C -2.65625 -5.515625 -3.171875 -4.984375 -3.46875 -3.734375 L -3.703125 -2.765625 C -3.890625 -1.953125 -4.15625 -1.609375 -4.59375 -1.609375 C -5.171875 -1.609375 -5.546875 -2.125 -5.546875 -2.9375 C -5.546875 -3.75 -5.203125 -4.171875 -4.53125 -4.203125 Z \"/>\n",
       "</symbol>\n",
       "<symbol overflow=\"visible\" id=\"glyph1-9\">\n",
       "<path style=\"stroke:none;\" d=\"M -6.28125 -1.796875 L -6.28125 -0.796875 L 0 -0.796875 L 0 -1.796875 Z M -8.75 -1.796875 L -8.75 -0.796875 L -7.484375 -0.796875 L -7.484375 -1.796875 Z \"/>\n",
       "</symbol>\n",
       "<symbol overflow=\"visible\" id=\"glyph1-10\">\n",
       "<path style=\"stroke:none;\" d=\"M -6.28125 -3.046875 L -6.28125 -2.015625 L -8.015625 -2.015625 L -8.015625 -1.015625 L -6.28125 -1.015625 L -6.28125 -0.171875 L -5.46875 -0.171875 L -5.46875 -1.015625 L -0.71875 -1.015625 C -0.078125 -1.015625 0.28125 -1.453125 0.28125 -2.234375 C 0.28125 -2.46875 0.25 -2.71875 0.1875 -3.046875 L -0.640625 -3.046875 C -0.609375 -2.921875 -0.59375 -2.765625 -0.59375 -2.5625 C -0.59375 -2.140625 -0.71875 -2.015625 -1.15625 -2.015625 L -5.46875 -2.015625 L -5.46875 -3.046875 Z \"/>\n",
       "</symbol>\n",
       "<symbol overflow=\"visible\" id=\"glyph1-11\">\n",
       "<path style=\"stroke:none;\" d=\"M -6.28125 -4.65625 L -1.390625 -2.921875 L -6.28125 -1.3125 L -6.28125 -0.234375 L 0.03125 -2.359375 L 1.015625 -1.984375 C 1.46875 -1.828125 1.625 -1.59375 1.625 -1.171875 C 1.625 -1.03125 1.609375 -0.859375 1.5625 -0.640625 L 2.453125 -0.640625 C 2.5625 -0.859375 2.609375 -1.0625 2.609375 -1.3125 C 2.609375 -1.640625 2.515625 -1.984375 2.3125 -2.25 C 2.09375 -2.5625 1.828125 -2.75 1.3125 -2.9375 L -6.28125 -5.734375 Z \"/>\n",
       "</symbol>\n",
       "</g>\n",
       "<clipPath id=\"clip1\">\n",
       "  <path d=\"M 37.441406 450 L 489 450 L 489 451 L 37.441406 451 Z \"/>\n",
       "</clipPath>\n",
       "</defs>\n",
       "<g id=\"surface46\">\n",
       "<rect x=\"0\" y=\"0\" width=\"504\" height=\"504\" style=\"fill:rgb(100%,100%,100%);fill-opacity:1;stroke:none;\"/>\n",
       "<path style=\"fill:none;stroke-width:0.75;stroke-linecap:round;stroke-linejoin:round;stroke:rgb(0%,0%,0%);stroke-opacity:1;stroke-miterlimit:10;\" d=\"M 54.132812 450.382812 L 54.949219 450.300781 L 55.765625 450.203125 L 56.582031 450.28125 L 57.398438 450.375 L 58.21875 450.398438 L 63.117188 450.398438 L 63.933594 450.394531 L 64.75 450.339844 L 65.566406 450.210938 L 66.382812 450.242188 L 67.199219 450.328125 L 68.015625 450.222656 L 68.832031 450.015625 L 69.652344 449.882812 L 70.46875 449.890625 L 71.285156 450 L 72.101562 450.191406 L 72.917969 450.332031 L 73.734375 450.289062 L 74.550781 450.183594 L 75.367188 450.085938 L 76.183594 450.042969 L 77 450.109375 L 78.632812 450.195312 L 79.449219 450.253906 L 80.269531 450.078125 L 81.085938 450.023438 L 81.902344 450.289062 L 82.71875 450.390625 L 83.535156 450.34375 L 84.351562 450.152344 L 85.167969 449.957031 L 85.984375 449.828125 L 86.800781 449.398438 L 87.617188 449.246094 L 88.433594 449.625 L 89.25 449.78125 L 90.066406 449.855469 L 90.886719 449.941406 L 91.703125 449.683594 L 92.519531 449.523438 L 93.335938 449.488281 L 94.152344 449.539062 L 94.96875 449.710938 L 95.785156 449.898438 L 96.601562 449.71875 L 97.417969 449.863281 L 98.234375 450.105469 L 99.050781 449.984375 L 99.867188 449.765625 L 100.683594 449.710938 L 101.5 449.941406 L 102.320312 450.007812 L 103.136719 449.796875 L 103.953125 449.121094 L 104.769531 448.429688 L 105.585938 448.441406 L 106.402344 448.703125 L 107.21875 449.015625 L 108.035156 449.105469 L 108.851562 449.308594 L 109.667969 449.496094 L 110.484375 448.8125 L 111.300781 448.761719 L 112.117188 449.351562 L 112.9375 449.191406 L 113.753906 449.285156 L 114.570312 449.113281 L 115.386719 449.1875 L 116.203125 449.304688 L 117.019531 448.921875 L 117.835938 448.667969 L 118.652344 448.742188 L 119.46875 448.945312 L 120.285156 448.785156 L 121.101562 448.027344 L 121.917969 448.230469 L 122.734375 448.445312 L 123.554688 448.484375 L 124.371094 448.109375 L 125.1875 448.097656 L 126.003906 448.460938 L 126.820312 448.503906 L 127.636719 448.894531 L 128.453125 449.226562 L 129.269531 448.914062 L 130.085938 448.144531 L 130.902344 447.46875 L 131.71875 447.054688 L 132.535156 446.738281 L 133.351562 447.25 L 134.167969 447.695312 L 134.988281 447.109375 L 135.804688 447.105469 L 136.621094 447.363281 L 137.4375 447.417969 L 138.253906 447.03125 L 139.070312 447.480469 L 139.886719 447.980469 L 140.703125 448.207031 L 141.519531 448.238281 L 142.335938 447.957031 L 143.152344 447.886719 L 143.96875 447.941406 L 144.785156 447.738281 L 145.605469 447.4375 L 146.421875 447.550781 L 147.238281 448.152344 L 148.054688 448.335938 L 148.871094 448.1875 L 149.6875 448.257812 L 150.503906 448.015625 L 151.320312 447.480469 L 152.136719 447.21875 L 152.953125 446.558594 L 153.769531 445.472656 L 154.585938 445.1875 L 155.402344 445.742188 L 156.222656 446.261719 L 157.039062 445.664062 L 157.855469 445.328125 L 158.671875 446.152344 L 159.488281 446.769531 L 160.304688 446.609375 L 161.121094 445.84375 L 161.9375 445.515625 L 162.753906 445.296875 L 163.570312 445.429688 L 164.386719 444.964844 L 165.203125 444.011719 L 166.019531 443.648438 L 166.835938 444.496094 L 167.65625 445.839844 L 168.472656 445.867188 L 169.289062 445.804688 L 170.105469 446.273438 L 170.921875 446.78125 L 171.738281 446.203125 L 172.554688 445.742188 L 173.371094 445.40625 L 174.1875 445.253906 L 175.003906 444.941406 L 175.820312 444.863281 L 176.636719 445.125 L 177.453125 445.734375 L 178.273438 445.046875 L 179.089844 443.519531 L 179.90625 442.753906 L 180.722656 442.628906 L 181.539062 443.015625 L 182.355469 443.078125 L 183.171875 442.859375 L 183.988281 442.078125 L 184.804688 441.066406 L 185.621094 442.144531 L 186.4375 443.851562 L 187.253906 444.964844 L 188.070312 443.28125 L 188.890625 442.238281 L 189.707031 443.132812 L 190.523438 443.40625 L 191.339844 442.8125 L 192.15625 443.621094 L 192.972656 444.417969 L 193.789062 444.160156 L 194.605469 444.011719 L 195.421875 442.792969 L 196.238281 441.128906 L 197.054688 440.683594 L 197.871094 441.328125 L 198.6875 441.992188 L 199.503906 441.445312 L 200.324219 441.398438 L 201.140625 442.277344 L 201.957031 441.390625 L 202.773438 438.25 L 203.589844 438.625 L 204.40625 440.210938 L 205.222656 440.53125 L 206.039062 439.578125 L 206.855469 438.023438 L 207.671875 438.191406 L 208.488281 439.429688 L 209.304688 439.4375 L 210.121094 439.429688 L 210.941406 439.4375 L 211.757812 439.496094 L 212.574219 438.699219 L 213.390625 436.46875 L 214.207031 436.1875 L 215.023438 437.582031 L 215.839844 437.40625 L 216.65625 436.3125 L 217.472656 436.273438 L 218.289062 436.910156 L 219.105469 436.789062 L 219.921875 435.773438 L 220.738281 434.957031 L 221.558594 434.539062 L 222.375 434.210938 L 223.191406 434.652344 L 224.007812 435.742188 L 224.824219 437.3125 L 225.640625 439.113281 L 226.457031 438.179688 L 227.273438 434.492188 L 228.089844 432.289062 L 228.90625 433.40625 L 229.722656 434.640625 L 230.539062 434.070312 L 231.355469 434.828125 L 232.171875 436.363281 L 232.992188 437.4375 L 233.808594 437.980469 L 234.625 436.488281 L 235.441406 434.183594 L 236.257812 433.515625 L 237.074219 433.78125 L 237.890625 432.644531 L 238.707031 431.429688 L 239.523438 432.460938 L 240.339844 432.804688 L 241.15625 432.925781 L 241.972656 432.832031 L 242.789062 431.910156 L 243.609375 430.949219 L 244.425781 431.394531 L 245.242188 430.703125 L 246.058594 429.332031 L 246.875 428.40625 L 247.691406 428.175781 L 248.507812 427.535156 L 249.324219 426.761719 L 250.140625 426.230469 L 250.957031 428.296875 L 251.773438 430.21875 L 252.589844 426.886719 L 253.40625 423.855469 L 254.226562 424.320312 L 255.042969 424.574219 L 255.859375 425.296875 L 256.675781 426.585938 L 257.492188 426.351562 L 258.308594 427.375 L 259.125 427.222656 L 259.941406 426.3125 L 260.757812 424.570312 L 261.574219 421.3125 L 262.390625 419.6875 L 263.207031 419.25 L 264.023438 417.699219 L 264.839844 415.796875 L 265.660156 416.160156 L 266.476562 416.304688 L 267.292969 418.132812 L 268.109375 421.625 L 268.925781 419.964844 L 269.742188 416.183594 L 270.558594 412.3125 L 271.375 412.621094 L 272.191406 411.296875 L 273.007812 408.933594 L 273.824219 409.539062 L 274.640625 411.117188 L 275.457031 412.128906 L 276.277344 412.847656 L 277.09375 411.019531 L 277.910156 410.375 L 278.726562 409.800781 L 279.542969 407.625 L 280.359375 406.015625 L 281.175781 405.265625 L 281.992188 405.417969 L 282.808594 403.414062 L 283.625 399.023438 L 284.441406 397.050781 L 285.257812 397.046875 L 286.074219 398.820312 L 286.894531 401.394531 L 287.710938 400.425781 L 288.527344 397.265625 L 289.34375 395.78125 L 290.160156 395.902344 L 290.976562 396.972656 L 291.792969 396.21875 L 292.609375 393.808594 L 293.425781 390.253906 L 294.242188 384.007812 L 295.058594 379.554688 L 295.875 379.800781 L 296.691406 381.242188 L 297.507812 380.066406 L 298.328125 375.355469 L 299.144531 371.734375 L 299.960938 372.976562 L 300.777344 374.933594 L 301.59375 374.144531 L 302.410156 372.851562 L 303.226562 371.628906 L 304.042969 371.234375 L 304.859375 371.371094 L 305.675781 370.160156 L 306.492188 370.125 L 307.308594 369.117188 L 308.125 364.6875 L 308.945312 359.894531 L 309.761719 354.746094 L 310.578125 353.050781 L 311.394531 359.347656 L 312.210938 365.511719 L 313.027344 367.492188 L 313.84375 368.679688 L 314.660156 365.875 L 315.476562 359.269531 L 316.292969 357.085938 L 317.109375 360.597656 L 317.925781 361.351562 L 318.742188 356.367188 L 319.5625 353.730469 L 320.378906 353.769531 L 321.195312 353.058594 L 322.011719 353.5 L 322.828125 353.175781 L 323.644531 349.515625 L 324.460938 347.019531 L 325.277344 345.371094 L 326.09375 345.789062 L 326.910156 349.195312 L 327.726562 348.492188 L 328.542969 344.898438 L 329.359375 344.375 L 330.175781 343.449219 L 330.996094 344.023438 L 331.8125 343.960938 L 332.628906 345.519531 L 333.445312 344.300781 L 334.261719 343.9375 L 335.078125 340.832031 L 335.894531 338.804688 L 336.710938 337.6875 L 337.527344 338.945312 L 338.34375 340.421875 L 339.160156 340.652344 L 339.976562 341.976562 L 340.792969 339.636719 L 341.613281 337.027344 L 342.429688 330.964844 L 343.246094 327.066406 L 344.0625 334.847656 L 344.878906 339.339844 L 345.695312 335.398438 L 346.511719 334.835938 L 347.328125 334.507812 L 348.144531 327.726562 L 348.960938 321.863281 L 349.777344 324.679688 L 350.59375 328.117188 L 351.410156 326.449219 L 352.230469 320.980469 L 353.046875 322.726562 L 353.863281 323.484375 L 354.679688 318.738281 L 355.496094 310.457031 L 356.3125 310.894531 L 357.128906 315.910156 L 357.945312 316.882812 L 358.761719 316.867188 L 359.578125 316.515625 L 360.394531 313.855469 L 361.210938 308.617188 L 362.027344 306.222656 L 362.84375 304.933594 L 363.664062 301.003906 L 364.480469 298.101562 L 365.296875 295.953125 L 366.113281 297.265625 L 366.929688 298.042969 L 367.746094 295.707031 L 368.5625 293.136719 L 369.378906 295.808594 L 370.195312 298.511719 L 371.011719 298.074219 L 371.828125 297.449219 L 372.644531 293.9375 L 373.460938 286.722656 L 374.28125 283.921875 L 375.097656 286.453125 L 375.914062 287.941406 L 376.730469 286.117188 L 377.546875 283.105469 L 378.363281 278.363281 L 379.179688 272.375 L 379.996094 269.28125 L 380.8125 269.746094 L 381.628906 270.433594 L 382.445312 267.457031 L 383.261719 260.503906 L 384.078125 255.582031 L 384.898438 258.789062 L 385.714844 265.542969 L 386.53125 269.71875 L 387.347656 266.898438 L 388.164062 264.574219 L 388.980469 264.042969 L 389.796875 262.550781 L 390.613281 259.667969 L 391.429688 253.859375 L 392.246094 250.769531 L 393.0625 250.484375 L 393.878906 251.851562 L 394.695312 252.613281 L 395.511719 257.878906 L 396.332031 259.144531 L 397.148438 253.804688 L 397.964844 243.863281 L 398.78125 234.066406 L 399.597656 228.972656 L 400.414062 233.136719 L 401.230469 228.589844 L 402.046875 223.351562 L 402.863281 233.925781 L 403.679688 238.105469 L 404.496094 228.207031 L 405.3125 218.5 L 406.128906 224.386719 L 406.949219 225.054688 L 407.765625 222.03125 L 408.582031 222.167969 L 409.398438 217.867188 L 410.214844 210.296875 L 411.03125 208.597656 L 411.847656 210.132812 L 412.664062 207.914062 L 413.480469 204.78125 L 414.296875 204.1875 L 415.113281 203.695312 L 415.929688 204.273438 L 416.746094 206.242188 L 417.566406 206.003906 L 418.382812 198.835938 L 419.199219 191.050781 L 420.015625 190.484375 L 420.832031 187.390625 L 421.648438 180.761719 L 422.464844 181.867188 L 423.28125 186.726562 L 424.097656 184.042969 L 424.914062 183.027344 L 425.730469 176.90625 L 426.546875 165.644531 L 427.363281 165.097656 L 428.179688 173.292969 L 429 171.152344 L 429.816406 163.054688 L 430.632812 164.8125 L 431.449219 157.886719 L 432.265625 160.40625 L 433.082031 165.921875 L 433.898438 162.941406 L 434.714844 153.796875 L 435.53125 147.441406 L 436.347656 145.503906 L 437.164062 140.835938 L 437.980469 142 L 438.796875 141.566406 L 439.617188 141.625 L 440.433594 138.265625 L 442.066406 135.601562 L 442.882812 128.875 L 443.699219 133.285156 L 444.515625 145.792969 L 445.332031 144.882812 L 446.148438 131.289062 L 446.964844 125.171875 L 447.78125 131.058594 L 448.597656 133.714844 L 449.414062 134.503906 L 450.234375 137.894531 L 451.050781 137.800781 L 451.867188 132.234375 L 452.683594 123.09375 L 453.5 114.707031 L 454.316406 114.597656 L 455.132812 119.527344 L 455.949219 120.367188 L 456.765625 111.832031 L 457.582031 102.957031 L 458.398438 104.863281 L 459.214844 105.050781 L 460.03125 101.15625 L 460.847656 98.71875 L 461.667969 97.546875 L 462.484375 94.96875 L 463.300781 85.839844 L 464.117188 77.171875 L 464.933594 76.078125 L 465.75 76.652344 L 466.566406 66.382812 L 467.382812 48.578125 L 468.199219 46.398438 L 469.015625 98.488281 L 469.832031 244.28125 L 470.648438 399.484375 L 471.464844 447.058594 \"/>\n",
       "<path style=\"fill:none;stroke-width:0.75;stroke-linecap:round;stroke-linejoin:round;stroke:rgb(0%,0%,0%);stroke-opacity:1;stroke-miterlimit:10;\" d=\"M 40.195312 466.558594 L 454.757812 466.558594 \"/>\n",
       "<path style=\"fill:none;stroke-width:0.75;stroke-linecap:round;stroke-linejoin:round;stroke:rgb(0%,0%,0%);stroke-opacity:1;stroke-miterlimit:10;\" d=\"M 40.195312 466.558594 L 40.195312 475.285156 \"/>\n",
       "<path style=\"fill:none;stroke-width:0.75;stroke-linecap:round;stroke-linejoin:round;stroke:rgb(0%,0%,0%);stroke-opacity:1;stroke-miterlimit:10;\" d=\"M 109.289062 466.558594 L 109.289062 475.285156 \"/>\n",
       "<path style=\"fill:none;stroke-width:0.75;stroke-linecap:round;stroke-linejoin:round;stroke:rgb(0%,0%,0%);stroke-opacity:1;stroke-miterlimit:10;\" d=\"M 178.382812 466.558594 L 178.382812 475.285156 \"/>\n",
       "<path style=\"fill:none;stroke-width:0.75;stroke-linecap:round;stroke-linejoin:round;stroke:rgb(0%,0%,0%);stroke-opacity:1;stroke-miterlimit:10;\" d=\"M 247.476562 466.558594 L 247.476562 475.285156 \"/>\n",
       "<path style=\"fill:none;stroke-width:0.75;stroke-linecap:round;stroke-linejoin:round;stroke:rgb(0%,0%,0%);stroke-opacity:1;stroke-miterlimit:10;\" d=\"M 316.570312 466.558594 L 316.570312 475.285156 \"/>\n",
       "<path style=\"fill:none;stroke-width:0.75;stroke-linecap:round;stroke-linejoin:round;stroke:rgb(0%,0%,0%);stroke-opacity:1;stroke-miterlimit:10;\" d=\"M 385.664062 466.558594 L 385.664062 475.285156 \"/>\n",
       "<path style=\"fill:none;stroke-width:0.75;stroke-linecap:round;stroke-linejoin:round;stroke:rgb(0%,0%,0%);stroke-opacity:1;stroke-miterlimit:10;\" d=\"M 454.757812 466.558594 L 454.757812 475.285156 \"/>\n",
       "<g style=\"fill:rgb(0%,0%,0%);fill-opacity:1;\">\n",
       "  <use xlink:href=\"#glyph0-1\" x=\"31.695312\" y=\"484.716797\"/>\n",
       "  <use xlink:href=\"#glyph0-2\" x=\"38.367188\" y=\"484.716797\"/>\n",
       "  <use xlink:href=\"#glyph0-3\" x=\"41.703125\" y=\"484.716797\"/>\n",
       "</g>\n",
       "<g style=\"fill:rgb(0%,0%,0%);fill-opacity:1;\">\n",
       "  <use xlink:href=\"#glyph0-1\" x=\"100.789062\" y=\"484.716797\"/>\n",
       "  <use xlink:href=\"#glyph0-2\" x=\"107.460938\" y=\"484.716797\"/>\n",
       "  <use xlink:href=\"#glyph0-4\" x=\"110.796875\" y=\"484.716797\"/>\n",
       "</g>\n",
       "<g style=\"fill:rgb(0%,0%,0%);fill-opacity:1;\">\n",
       "  <use xlink:href=\"#glyph0-1\" x=\"169.882812\" y=\"484.716797\"/>\n",
       "  <use xlink:href=\"#glyph0-2\" x=\"176.554688\" y=\"484.716797\"/>\n",
       "  <use xlink:href=\"#glyph0-5\" x=\"179.890625\" y=\"484.716797\"/>\n",
       "</g>\n",
       "<g style=\"fill:rgb(0%,0%,0%);fill-opacity:1;\">\n",
       "  <use xlink:href=\"#glyph0-1\" x=\"238.976562\" y=\"484.716797\"/>\n",
       "  <use xlink:href=\"#glyph0-2\" x=\"245.648438\" y=\"484.716797\"/>\n",
       "  <use xlink:href=\"#glyph0-6\" x=\"248.984375\" y=\"484.716797\"/>\n",
       "</g>\n",
       "<g style=\"fill:rgb(0%,0%,0%);fill-opacity:1;\">\n",
       "  <use xlink:href=\"#glyph0-7\" x=\"308.070312\" y=\"484.716797\"/>\n",
       "  <use xlink:href=\"#glyph0-2\" x=\"314.742188\" y=\"484.716797\"/>\n",
       "  <use xlink:href=\"#glyph0-1\" x=\"318.078125\" y=\"484.716797\"/>\n",
       "</g>\n",
       "<g style=\"fill:rgb(0%,0%,0%);fill-opacity:1;\">\n",
       "  <use xlink:href=\"#glyph0-7\" x=\"377.164062\" y=\"484.716797\"/>\n",
       "  <use xlink:href=\"#glyph0-2\" x=\"383.835938\" y=\"484.716797\"/>\n",
       "  <use xlink:href=\"#glyph0-7\" x=\"387.171875\" y=\"484.716797\"/>\n",
       "</g>\n",
       "<g style=\"fill:rgb(0%,0%,0%);fill-opacity:1;\">\n",
       "  <use xlink:href=\"#glyph0-7\" x=\"446.257812\" y=\"484.716797\"/>\n",
       "  <use xlink:href=\"#glyph0-2\" x=\"452.929688\" y=\"484.716797\"/>\n",
       "  <use xlink:href=\"#glyph0-8\" x=\"456.265625\" y=\"484.716797\"/>\n",
       "</g>\n",
       "<path style=\"fill:none;stroke-width:0.75;stroke-linecap:round;stroke-linejoin:round;stroke:rgb(0%,0%,0%);stroke-opacity:1;stroke-miterlimit:10;\" d=\"M 37.441406 450.398438 L 37.441406 128.082031 \"/>\n",
       "<path style=\"fill:none;stroke-width:0.75;stroke-linecap:round;stroke-linejoin:round;stroke:rgb(0%,0%,0%);stroke-opacity:1;stroke-miterlimit:10;\" d=\"M 37.441406 450.398438 L 28.714844 450.398438 \"/>\n",
       "<path style=\"fill:none;stroke-width:0.75;stroke-linecap:round;stroke-linejoin:round;stroke:rgb(0%,0%,0%);stroke-opacity:1;stroke-miterlimit:10;\" d=\"M 37.441406 342.960938 L 28.714844 342.960938 \"/>\n",
       "<path style=\"fill:none;stroke-width:0.75;stroke-linecap:round;stroke-linejoin:round;stroke:rgb(0%,0%,0%);stroke-opacity:1;stroke-miterlimit:10;\" d=\"M 37.441406 235.523438 L 28.714844 235.523438 \"/>\n",
       "<path style=\"fill:none;stroke-width:0.75;stroke-linecap:round;stroke-linejoin:round;stroke:rgb(0%,0%,0%);stroke-opacity:1;stroke-miterlimit:10;\" d=\"M 37.441406 128.082031 L 28.714844 128.082031 \"/>\n",
       "<g style=\"fill:rgb(0%,0%,0%);fill-opacity:1;\">\n",
       "  <use xlink:href=\"#glyph1-1\" x=\"26.794922\" y=\"453.898438\"/>\n",
       "</g>\n",
       "<g style=\"fill:rgb(0%,0%,0%);fill-opacity:1;\">\n",
       "  <use xlink:href=\"#glyph1-2\" x=\"26.794922\" y=\"346.460938\"/>\n",
       "</g>\n",
       "<g style=\"fill:rgb(0%,0%,0%);fill-opacity:1;\">\n",
       "  <use xlink:href=\"#glyph1-3\" x=\"26.794922\" y=\"239.023438\"/>\n",
       "</g>\n",
       "<g style=\"fill:rgb(0%,0%,0%);fill-opacity:1;\">\n",
       "  <use xlink:href=\"#glyph1-4\" x=\"26.794922\" y=\"131.582031\"/>\n",
       "</g>\n",
       "<path style=\"fill:none;stroke-width:0.75;stroke-linecap:round;stroke-linejoin:round;stroke:rgb(0%,0%,0%);stroke-opacity:1;stroke-miterlimit:10;\" d=\"M 37.441406 466.558594 L 488.160156 466.558594 L 488.160156 30.238281 L 37.441406 30.238281 L 37.441406 466.558594 \"/>\n",
       "<g style=\"fill:rgb(0%,0%,0%);fill-opacity:1;\">\n",
       "  <use xlink:href=\"#glyph0-9\" x=\"163.300781\" y=\"499.115234\"/>\n",
       "  <use xlink:href=\"#glyph0-10\" x=\"171.964844\" y=\"499.115234\"/>\n",
       "  <use xlink:href=\"#glyph0-11\" x=\"175.300781\" y=\"499.115234\"/>\n",
       "  <use xlink:href=\"#glyph0-10\" x=\"182.308594\" y=\"499.115234\"/>\n",
       "  <use xlink:href=\"#glyph0-7\" x=\"185.644531\" y=\"499.115234\"/>\n",
       "  <use xlink:href=\"#glyph0-1\" x=\"192.316406\" y=\"499.115234\"/>\n",
       "  <use xlink:href=\"#glyph0-1\" x=\"198.988281\" y=\"499.115234\"/>\n",
       "  <use xlink:href=\"#glyph0-1\" x=\"205.660156\" y=\"499.115234\"/>\n",
       "  <use xlink:href=\"#glyph0-1\" x=\"212.332031\" y=\"499.115234\"/>\n",
       "  <use xlink:href=\"#glyph0-1\" x=\"219.003906\" y=\"499.115234\"/>\n",
       "  <use xlink:href=\"#glyph0-10\" x=\"225.675781\" y=\"499.115234\"/>\n",
       "  <use xlink:href=\"#glyph0-10\" x=\"229.011719\" y=\"499.115234\"/>\n",
       "  <use xlink:href=\"#glyph0-10\" x=\"232.347656\" y=\"499.115234\"/>\n",
       "  <use xlink:href=\"#glyph0-12\" x=\"235.683594\" y=\"499.115234\"/>\n",
       "  <use xlink:href=\"#glyph0-13\" x=\"243.6875\" y=\"499.115234\"/>\n",
       "  <use xlink:href=\"#glyph0-14\" x=\"250.359375\" y=\"499.115234\"/>\n",
       "  <use xlink:href=\"#glyph0-15\" x=\"257.03125\" y=\"499.115234\"/>\n",
       "  <use xlink:href=\"#glyph0-16\" x=\"263.703125\" y=\"499.115234\"/>\n",
       "  <use xlink:href=\"#glyph0-17\" x=\"272.367188\" y=\"499.115234\"/>\n",
       "  <use xlink:href=\"#glyph0-15\" x=\"275.03125\" y=\"499.115234\"/>\n",
       "  <use xlink:href=\"#glyph0-18\" x=\"281.703125\" y=\"499.115234\"/>\n",
       "  <use xlink:href=\"#glyph0-19\" x=\"285.039062\" y=\"499.115234\"/>\n",
       "  <use xlink:href=\"#glyph0-10\" x=\"291.710938\" y=\"499.115234\"/>\n",
       "  <use xlink:href=\"#glyph0-11\" x=\"295.046875\" y=\"499.115234\"/>\n",
       "  <use xlink:href=\"#glyph0-10\" x=\"302.054688\" y=\"499.115234\"/>\n",
       "  <use xlink:href=\"#glyph0-1\" x=\"305.390625\" y=\"499.115234\"/>\n",
       "  <use xlink:href=\"#glyph0-2\" x=\"312.0625\" y=\"499.115234\"/>\n",
       "  <use xlink:href=\"#glyph0-1\" x=\"315.398438\" y=\"499.115234\"/>\n",
       "  <use xlink:href=\"#glyph0-1\" x=\"322.070312\" y=\"499.115234\"/>\n",
       "  <use xlink:href=\"#glyph0-1\" x=\"328.742188\" y=\"499.115234\"/>\n",
       "  <use xlink:href=\"#glyph0-5\" x=\"335.414062\" y=\"499.115234\"/>\n",
       "  <use xlink:href=\"#glyph0-7\" x=\"342.085938\" y=\"499.115234\"/>\n",
       "  <use xlink:href=\"#glyph0-5\" x=\"348.757812\" y=\"499.115234\"/>\n",
       "  <use xlink:href=\"#glyph0-20\" x=\"355.429688\" y=\"499.115234\"/>\n",
       "</g>\n",
       "<g style=\"fill:rgb(0%,0%,0%);fill-opacity:1;\">\n",
       "  <use xlink:href=\"#glyph1-5\" x=\"12.396484\" y=\"268.898438\"/>\n",
       "  <use xlink:href=\"#glyph1-6\" x=\"12.396484\" y=\"260.234375\"/>\n",
       "  <use xlink:href=\"#glyph1-7\" x=\"12.396484\" y=\"253.5625\"/>\n",
       "  <use xlink:href=\"#glyph1-8\" x=\"12.396484\" y=\"246.890625\"/>\n",
       "  <use xlink:href=\"#glyph1-9\" x=\"12.396484\" y=\"240.890625\"/>\n",
       "  <use xlink:href=\"#glyph1-10\" x=\"12.396484\" y=\"238.226562\"/>\n",
       "  <use xlink:href=\"#glyph1-11\" x=\"12.396484\" y=\"234.890625\"/>\n",
       "</g>\n",
       "<g clip-path=\"url(#clip1)\" clip-rule=\"nonzero\">\n",
       "<path style=\"fill:none;stroke-width:0.075;stroke-linecap:round;stroke-linejoin:round;stroke:rgb(74.509804%,74.509804%,74.509804%);stroke-opacity:1;stroke-miterlimit:10;\" d=\"M 37.441406 450.398438 L 488.160156 450.398438 \"/>\n",
       "</g>\n",
       "</g>\n",
       "</svg>\n"
      ],
      "text/plain": [
       "Plot with title “”"
      ]
     },
     "metadata": {
      "image/svg+xml": {
       "isolated": true
      }
     },
     "output_type": "display_data"
    }
   ],
   "source": [
    "## R code 9.10\n",
    "library('rethinking')\n",
    "H <- replicate( 1e5 , sim.p(1.4) )\n",
    "dens( as.numeric(H[1,]) , adj=0.1 )"
   ]
  },
  {
   "cell_type": "code",
   "execution_count": 12,
   "metadata": {
    "collapsed": true
   },
   "outputs": [],
   "source": [
    "## R code 9.11\n",
    "entropies <- as.numeric(H[1,])\n",
    "distributions <- H[2,]"
   ]
  },
  {
   "cell_type": "code",
   "execution_count": 13,
   "metadata": {
    "collapsed": false
   },
   "outputs": [
    {
     "data": {
      "text/html": [
       "1.22172850641858"
      ],
      "text/latex": [
       "1.22172850641858"
      ],
      "text/markdown": [
       "1.22172850641858"
      ],
      "text/plain": [
       "[1] 1.221729"
      ]
     },
     "execution_count": 13,
     "metadata": {},
     "output_type": "execute_result"
    }
   ],
   "source": [
    "## R code 9.12\n",
    "max(entropies)"
   ]
  },
  {
   "cell_type": "code",
   "execution_count": 14,
   "metadata": {
    "collapsed": false
   },
   "outputs": [
    {
     "data": {
      "text/html": [
       "<ol>\n",
       "\t<li><ol class=list-inline>\n",
       "\t<li>0.0900834964541867</li>\n",
       "\t<li>0.209853924911117</li>\n",
       "\t<li>0.20997908218051</li>\n",
       "\t<li>0.490083496454187</li>\n",
       "</ol>\n",
       "</li>\n",
       "</ol>\n"
      ],
      "text/latex": [
       "\\begin{enumerate}\n",
       "\\item \\begin{enumerate*}\n",
       "\\item 0.0900834964541867\n",
       "\\item 0.209853924911117\n",
       "\\item 0.20997908218051\n",
       "\\item 0.490083496454187\n",
       "\\end{enumerate*}\n",
       "\n",
       "\\end{enumerate}\n"
      ],
      "text/markdown": [
       "1. 1. 0.0900834964541867\n",
       "2. 0.209853924911117\n",
       "3. 0.20997908218051\n",
       "4. 0.490083496454187\n",
       "\n",
       "\n",
       "\n",
       "\n",
       "\n"
      ],
      "text/plain": [
       "[[1]]\n",
       "[1] 0.0900835 0.2098539 0.2099791 0.4900835\n"
      ]
     },
     "execution_count": 14,
     "metadata": {},
     "output_type": "execute_result"
    }
   ],
   "source": [
    "## R code 9.13\n",
    "distributions[ which.max(entropies) ]"
   ]
  }
 ],
 "metadata": {
  "kernelspec": {
   "display_name": "R",
   "language": "R",
   "name": "ir"
  },
  "language_info": {
   "codemirror_mode": "r",
   "file_extension": ".r",
   "mimetype": "text/x-r-source",
   "name": "R",
   "pygments_lexer": "r",
   "version": "3.2.2"
  }
 },
 "nbformat": 4,
 "nbformat_minor": 0
}
